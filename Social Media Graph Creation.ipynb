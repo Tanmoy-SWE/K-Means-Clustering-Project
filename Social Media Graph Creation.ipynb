{
  "cells": [
    {
      "cell_type": "markdown",
      "metadata": {
        "deletable": false,
        "editable": false,
        "id": "RwGOmnHhYd4V",
        "nbgrader": {
          "cell_type": "markdown",
          "checksum": "dd27a90a07b69769329b2a78898ab7b6",
          "grade": false,
          "grade_id": "cell-12f7c2ea073326e3",
          "locked": true,
          "schema_version": 3,
          "solution": false,
          "task": false
        }
      },
      "source": [
        "We will learn about social networks consisting of users and links between users. We have experience with frequent items in market basket analysis. We can treat links between users like items. By determining the frequent items, we will determine the frequent links between users. The questions guide you step-by-step through these steps of data processing. \n",
        "\n"
      ]
    },
    {
      "cell_type": "markdown",
      "metadata": {
        "id": "BZ60w8UbYd4X"
      },
      "source": [
        "**Name:** *list name here*"
      ]
    },
    {
      "cell_type": "markdown",
      "metadata": {
        "id": "dGiLdWtKYd4X"
      },
      "source": [
        "**NetId:** *list netid here*"
      ]
    },
    {
      "cell_type": "markdown",
      "metadata": {
        "id": "s8OZFHp2Yd4Y"
      },
      "source": [
        "**Collaborators:** *list names here*"
      ]
    },
    {
      "cell_type": "code",
      "execution_count": 2,
      "metadata": {
        "colab": {
          "base_uri": "https://localhost:8080/",
          "height": 383
        },
        "deletable": false,
        "editable": false,
        "id": "ou70zX1_Yd4Y",
        "nbgrader": {
          "cell_type": "code",
          "checksum": "efa49ea9ae5da40553a33b4a8365045a",
          "grade": false,
          "grade_id": "imports",
          "locked": true,
          "schema_version": 3,
          "solution": false
        },
        "outputId": "83f1f461-9f45-4e1f-c063-9005123d1a88"
      },
      "outputs": [
        {
          "ename": "ModuleNotFoundError",
          "evalue": "ignored",
          "output_type": "error",
          "traceback": [
            "\u001b[0;31m---------------------------------------------------------------------------\u001b[0m",
            "\u001b[0;31mModuleNotFoundError\u001b[0m                       Traceback (most recent call last)",
            "\u001b[0;32m<ipython-input-2-b9b3130f253b>\u001b[0m in \u001b[0;36m<module>\u001b[0;34m()\u001b[0m\n\u001b[1;32m      4\u001b[0m \u001b[0;32mimport\u001b[0m \u001b[0mnumpy\u001b[0m \u001b[0;32mas\u001b[0m \u001b[0mnp\u001b[0m\u001b[0;34m\u001b[0m\u001b[0;34m\u001b[0m\u001b[0m\n\u001b[1;32m      5\u001b[0m \u001b[0;34m\u001b[0m\u001b[0m\n\u001b[0;32m----> 6\u001b[0;31m \u001b[0;32mimport\u001b[0m \u001b[0mpyspark\u001b[0m\u001b[0;34m\u001b[0m\u001b[0;34m\u001b[0m\u001b[0m\n\u001b[0m\u001b[1;32m      7\u001b[0m \u001b[0;32mfrom\u001b[0m \u001b[0mpyspark\u001b[0m\u001b[0;34m.\u001b[0m\u001b[0msql\u001b[0m \u001b[0;32mimport\u001b[0m \u001b[0mfunctions\u001b[0m \u001b[0;32mas\u001b[0m \u001b[0mF\u001b[0m\u001b[0;34m\u001b[0m\u001b[0;34m\u001b[0m\u001b[0m\n\u001b[1;32m      8\u001b[0m \u001b[0;34m\u001b[0m\u001b[0m\n",
            "\u001b[0;31mModuleNotFoundError\u001b[0m: No module named 'pyspark'",
            "",
            "\u001b[0;31m---------------------------------------------------------------------------\u001b[0;32m\nNOTE: If your import is failing due to a missing package, you can\nmanually install dependencies using either !pip or !apt.\n\nTo view examples of installing some common dependencies, click the\n\"Open Examples\" button below.\n\u001b[0;31m---------------------------------------------------------------------------\u001b[0m\n"
          ]
        }
      ],
      "source": [
        "# importing packages \n",
        "\n",
        "import pandas as pd\n",
        "import numpy as np\n",
        "\n",
        "import pyspark\n",
        "from pyspark.sql import functions as F\n",
        "\n",
        "# changing some settings\n",
        "\n",
        "pd.set_option('display.max_rows', 10)\n",
        "pd.set_option('display.max_columns', 8)\n",
        "\n",
        "# indicating paths to files\n",
        "\n",
        "import os\n",
        "home = os.environ['HOME']\n",
        "path_social_network = f\"{home}/shared/homework-5/facebook-edges.csv.gz\" \n",
        "path_social_network_counts = f\"{home}/shared/homework-5/facebook-edges-counts-10096.json\" "
      ]
    },
    {
      "cell_type": "markdown",
      "metadata": {
        "deletable": false,
        "editable": false,
        "id": "7HZBU87QYd4Z",
        "nbgrader": {
          "cell_type": "markdown",
          "checksum": "11546ef474109e042316d62983f6907f",
          "grade": false,
          "grade_id": "cell-821c0c62f43b5bc1",
          "locked": true,
          "schema_version": 3,
          "solution": false,
          "task": false
        }
      },
      "source": [
        "Social networks are online platforms consisting of users and links between users. Links capture relationships between users with connections likes hobbies, careers, education or family.\n",
        "\n",
        "Based on patterns in the social network, we can make suggestions to users. We can engage users on the platform through recommendations of possible connections.  \n",
        "\n",
        "### Question 1\n",
        "\n",
        "A graph is a diagram consisting of dots called nodes and line segments called edges. We can use graphs to represent social networks. Each user is a node and each link between users is an edge. \n",
        "\n",
        "\n",
        "#### Question 1.1\n",
        "\n",
        "Suppose we have a social network consisting of six people."
      ]
    },
    {
      "cell_type": "code",
      "execution_count": 3,
      "metadata": {
        "deletable": false,
        "editable": false,
        "id": "0Jc3595RYd4a",
        "nbgrader": {
          "cell_type": "code",
          "checksum": "8a0dda1b74905e1e07dce82acd003144",
          "grade": false,
          "grade_id": "cell-958d8d4105270e28",
          "locked": true,
          "schema_version": 3,
          "solution": false,
          "task": false
        }
      },
      "outputs": [],
      "source": [
        "nodes = ['Albert', 'Bernard', 'Charles', 'Deborah', 'Flora', 'Elizabeth']"
      ]
    },
    {
      "cell_type": "markdown",
      "metadata": {
        "deletable": false,
        "editable": false,
        "id": "YN7LNkiAYd4b",
        "nbgrader": {
          "cell_type": "markdown",
          "checksum": "16d978ad390140081c895de9891ff78c",
          "grade": false,
          "grade_id": "cell-e7f6a8c134540044",
          "locked": true,
          "schema_version": 3,
          "solution": false,
          "task": false
        }
      },
      "source": [
        "The links in the network represent friendship."
      ]
    },
    {
      "cell_type": "code",
      "execution_count": 6,
      "metadata": {
        "deletable": false,
        "editable": false,
        "id": "irA0jCoIYd4b",
        "nbgrader": {
          "cell_type": "code",
          "checksum": "3c7530c8be9663b773bd488d5007acd9",
          "grade": false,
          "grade_id": "cell-c906c2ef422231f0",
          "locked": true,
          "schema_version": 3,
          "solution": false,
          "task": false
        }
      },
      "outputs": [],
      "source": [
        "edges = [['Albert', 'Bernard'],\n",
        "        ['Albert', 'Charles'],\n",
        "        ['Bernard', 'Deborah'],\n",
        "        ['Bernard', 'Charles'],\n",
        "        ['Charles', 'Deborah'],\n",
        "        ['Charles', 'Flora'],\n",
        "        ['Deborah', 'Flora'],\n",
        "        ['Elizabeth', 'Deborah']]\n",
        "\n",
        "edges_with_duplicates = edges + [[edge[1], edge[0]] for edge in edges]"
      ]
    },
    {
      "cell_type": "markdown",
      "metadata": {
        "deletable": false,
        "editable": false,
        "id": "5UvkB1ypYd4c",
        "nbgrader": {
          "cell_type": "markdown",
          "checksum": "e5c000f690594c0d8f4beca0cc487217",
          "grade": false,
          "grade_id": "cell-c6d1b527e4b10bec",
          "locked": true,
          "schema_version": 3,
          "solution": false,
          "task": false
        }
      },
      "source": [
        "The list `edges` contains pairs of friends. For example, Albert is friends with Bernard meaning `edges` contains `['Albert', 'Bernard']`\n",
        "\n",
        "We take friendship to be a mutual relationship. So the list `edges_with_duplicates` contains two entries for each pair of friends. For example, `edges_with_duplicates` contains both `['Albert', 'Bernard']` and `['Bernard', 'Albert']`.\n",
        "\n",
        "\n"
      ]
    },
    {
      "cell_type": "markdown",
      "metadata": {
        "deletable": false,
        "editable": false,
        "id": "F-1jB-ssYd4c",
        "nbgrader": {
          "cell_type": "markdown",
          "checksum": "88da7f15a5378fd2c5c2e575273db787",
          "grade": false,
          "grade_id": "cell-f15d327dfb2dcf93",
          "locked": true,
          "schema_version": 3,
          "solution": false,
          "task": false
        }
      },
      "source": [
        "<img src=\"image_0.svg\" width=300>"
      ]
    },
    {
      "cell_type": "markdown",
      "metadata": {
        "deletable": false,
        "editable": false,
        "id": "IuWjY5oXYd4c",
        "nbgrader": {
          "cell_type": "markdown",
          "checksum": "d24d38e65abac949bdc84c52afd5b9e0",
          "grade": false,
          "grade_id": "cell-fa3fcc2f42d419e6",
          "locked": true,
          "schema_version": 3,
          "solution": false,
          "task": false
        }
      },
      "source": [
        "Based on the graph, how many people are friends with Flora?"
      ]
    },
    {
      "cell_type": "code",
      "execution_count": 7,
      "metadata": {
        "colab": {
          "base_uri": "https://localhost:8080/"
        },
        "deletable": false,
        "id": "EKY-QrnmYd4d",
        "nbgrader": {
          "cell_type": "code",
          "checksum": "65c9b558fb386d57604ba3b18f0a4808",
          "grade": false,
          "grade_id": "cell-644fbe5f832f9584",
          "locked": false,
          "schema_version": 3,
          "solution": true,
          "task": false
        },
        "outputId": "0b631417-4761-4d30-a224-0f92df2c24af"
      },
      "outputs": [
        {
          "name": "stdout",
          "output_type": "stream",
          "text": [
            "2\n"
          ]
        }
      ],
      "source": [
        "q1_1 = ...\n",
        "q1_1\n",
        "\n",
        "name = 'Flora'\n",
        "friends = []\n",
        "for friend in edges:\n",
        "  if friend[0]==name:\n",
        "    friends.append(friend[1])\n",
        "  if friend[1]==name:\n",
        "    friends.append(friend[0])\n",
        "\n",
        "friends_set = set(friends)\n",
        "friends.clear()\n",
        "friends = list(friends_set)\n",
        "q1_1 = len(friends)\n",
        "print(q1_1)\n",
        "\n",
        "# YOUR CODE HERE\n",
        "#raise NotImplementedError()"
      ]
    },
    {
      "cell_type": "code",
      "execution_count": 8,
      "metadata": {
        "deletable": false,
        "editable": false,
        "id": "UHOEMIE5Yd4d",
        "nbgrader": {
          "cell_type": "code",
          "checksum": "e7a069833586890514285e1cb39c7527",
          "grade": true,
          "grade_id": "cell-5242e4d45069a053",
          "locked": true,
          "points": 1,
          "schema_version": 3,
          "solution": false,
          "task": false
        }
      },
      "outputs": [],
      "source": [
        "# TEST \n",
        "\n",
        "assert 0 <= q1_1 < 7\n"
      ]
    },
    {
      "cell_type": "markdown",
      "metadata": {
        "deletable": false,
        "editable": false,
        "id": "VuSlo6_ZYd4e",
        "nbgrader": {
          "cell_type": "markdown",
          "checksum": "57195b374e0db4667536373b606143c1",
          "grade": false,
          "grade_id": "cell-8fcd26cf3f6b3764",
          "locked": true,
          "schema_version": 3,
          "solution": false,
          "task": false
        }
      },
      "source": [
        "#### Question 1.2\n",
        "\n",
        "We can recommend connections between friends of friends. For example, Albert is friends with Bernard and Charles. However, Albert is not friends with Flora or Deborah. \n",
        "\n",
        "- We would recommend Deborah to Albert because Deborah is friends with Bernard and Charles \n",
        "- We would recommend Flora to Albert because Deborah is friends Charles \n",
        "\n",
        "Whom should we recommend to Charles? "
      ]
    },
    {
      "cell_type": "code",
      "execution_count": 9,
      "metadata": {
        "colab": {
          "base_uri": "https://localhost:8080/"
        },
        "deletable": false,
        "id": "ghbShvZxYd4e",
        "nbgrader": {
          "cell_type": "code",
          "checksum": "a988e79134a98675a72be1d1c1f3987b",
          "grade": false,
          "grade_id": "cell-f01cca16fed0c6ac",
          "locked": false,
          "schema_version": 3,
          "solution": true,
          "task": false
        },
        "outputId": "3db61b82-d608-4d6b-d44e-f07ef3e122bd"
      },
      "outputs": [
        {
          "name": "stdout",
          "output_type": "stream",
          "text": [
            "Elizabeth\n"
          ]
        }
      ],
      "source": [
        "q1_2 = ...\n",
        "\n",
        "# YOUR CODE HERE\n",
        "\n",
        "\n",
        "name = 'Charles'\n",
        "charles_friends = []\n",
        "for friend in edges:\n",
        "  if friend[0]==name:\n",
        "    charles_friends.append(friend[1])\n",
        "  if friend[1]==name:\n",
        "    charles_friends.append(friend[0])\n",
        "friends_set = set(charles_friends)\n",
        "charles_friends.clear()\n",
        "charles_friends = list(friends_set)\n",
        "\n",
        "#Below friends list will contain the friends to recommend \n",
        "recommend_friends = []\n",
        "for friend in edges:\n",
        "  for i in charles_friends:\n",
        "    if friend[0]==i:\n",
        "      recommend_friends.append(friend[1])\n",
        "    if friend[1]==i:\n",
        "      recommend_friends.append(friend[0])\n",
        "result = []\n",
        "for friend in recommend_friends:\n",
        "    if friend not in charles_friends and friend!='Charles':\n",
        "      result.append(friend)\n",
        "\n",
        "q1_2 = result[0]\n",
        "print(q1_2)\n",
        "\n",
        "# YOUR CODE HERE\n",
        "#raise NotImplementedError()\n"
      ]
    },
    {
      "cell_type": "code",
      "execution_count": 10,
      "metadata": {
        "deletable": false,
        "editable": false,
        "id": "7Yu_17aeYd4e",
        "nbgrader": {
          "cell_type": "code",
          "checksum": "743bb75359074c19857dacc076cbff68",
          "grade": true,
          "grade_id": "cell-fed25604d9be72be",
          "locked": true,
          "points": 1,
          "schema_version": 3,
          "solution": false,
          "task": false
        }
      },
      "outputs": [],
      "source": [
        "# TEST \n",
        "\n",
        "assert q1_2 in nodes\n"
      ]
    },
    {
      "cell_type": "markdown",
      "metadata": {
        "deletable": false,
        "editable": false,
        "id": "14ghYwT7Yd4e",
        "nbgrader": {
          "cell_type": "markdown",
          "checksum": "2c33b814abee94aaca0d32f7ce9df0af",
          "grade": false,
          "grade_id": "cell-e00ed9b737a94ed7",
          "locked": true,
          "schema_version": 3,
          "solution": false,
          "task": false
        }
      },
      "source": [
        "#### Question 1.3\n",
        "\n",
        "We can capture the social network with a table. \n"
      ]
    },
    {
      "cell_type": "code",
      "execution_count": null,
      "metadata": {
        "deletable": false,
        "editable": false,
        "id": "T8F6ld7AYd4e",
        "nbgrader": {
          "cell_type": "code",
          "checksum": "9cc2bc6569563aad7ecc3d7ae455bc85",
          "grade": false,
          "grade_id": "cell-ba40a0591e968af6",
          "locked": true,
          "schema_version": 3,
          "solution": false,
          "task": false
        }
      },
      "outputs": [],
      "source": [
        "social_network_items = pd.read_csv(\"social_network.csv\", index_col = 0)\n",
        "social_network_items"
      ]
    },
    {
      "cell_type": "markdown",
      "metadata": {
        "deletable": false,
        "editable": false,
        "id": "O6THuAOWYd4f",
        "nbgrader": {
          "cell_type": "markdown",
          "checksum": "bc0c2601bd1edd22afee2e551898fcc0",
          "grade": false,
          "grade_id": "cell-d07901479125102b",
          "locked": true,
          "schema_version": 3,
          "solution": false,
          "task": false
        }
      },
      "source": [
        "We label both the rows and columns with the six users in the social network.\n",
        "\n",
        "- The value 1 indicates a pair of friend. \n",
        "- The value 0 indicates a pair of strangers \n",
        "\n",
        "Suppose we want to determine a recommendation for Albert. "
      ]
    },
    {
      "cell_type": "markdown",
      "metadata": {
        "deletable": false,
        "editable": false,
        "id": "TBbxjqd4Yd4f",
        "nbgrader": {
          "cell_type": "markdown",
          "checksum": "edb92ea7eccfa47b0ba4305961e6c28c",
          "grade": false,
          "grade_id": "cell-27dc3df7d7bfd780",
          "locked": true,
          "schema_version": 3,
          "solution": false,
          "task": false
        }
      },
      "source": [
        "<img src=\"image_1.png\" width=400>"
      ]
    },
    {
      "cell_type": "markdown",
      "metadata": {
        "deletable": false,
        "editable": false,
        "id": "TZ6B6-9sYd4f",
        "nbgrader": {
          "cell_type": "markdown",
          "checksum": "3fca5393c62308f6d3d8234b1c816715",
          "grade": false,
          "grade_id": "cell-cac59b40bca40e07",
          "locked": true,
          "schema_version": 3,
          "solution": false,
          "task": false
        }
      },
      "source": [
        "First we look at the column corresponding to Albert. Since the column contains the number 1 in the rows for Bernard and Charles, we know that Albert is friends with Bernard and Charles. \n",
        "\n",
        "Second we look at the friends of Bernard and Charles. Since we would not recommend either Albert, Bernard or Charles to Albert we look at the columns for Deborah, Flora and Elizabeth. The number 1 appears \n",
        "\n",
        "- 2 times in the Deborah column\n",
        "- 1 time in the Flora column\n",
        "- 0 times in the Elizabeth column\n",
        "\n",
        "We conclude that Deborah has the most mutual friends with Albert."
      ]
    },
    {
      "cell_type": "markdown",
      "metadata": {
        "deletable": false,
        "editable": false,
        "id": "rsWURPE2Yd4f",
        "nbgrader": {
          "cell_type": "markdown",
          "checksum": "596da98334c6860d6406b8a26dec4d50",
          "grade": false,
          "grade_id": "cell-c69ee62e04b91de7",
          "locked": true,
          "schema_version": 3,
          "solution": false,
          "task": false
        }
      },
      "source": [
        "<img src=\"image_2.png\" width=400>"
      ]
    },
    {
      "cell_type": "markdown",
      "metadata": {
        "deletable": false,
        "editable": false,
        "id": "PzBBuXPRYd4f",
        "nbgrader": {
          "cell_type": "markdown",
          "checksum": "7d06c6015051e0ee055364ac91d950f3",
          "grade": false,
          "grade_id": "cell-ee9032464e907a57",
          "locked": true,
          "schema_version": 3,
          "solution": false,
          "task": false
        }
      },
      "source": [
        "Since Elizabeth is not a fried of either Bernard or Charles, we would not recommend Elizabeth to Albert. Since Deborah has more mutual friends with Albert than Flora, we are more confident in a possible friendship between Deborah and Albert. So if we had to make one recommendation to Albert, then we would recommend Deborah.\n",
        "\n",
        "Whom would we recommend to Bernard?"
      ]
    },
    {
      "cell_type": "code",
      "execution_count": null,
      "metadata": {
        "deletable": false,
        "id": "k21aLu36Yd4f",
        "nbgrader": {
          "cell_type": "code",
          "checksum": "c53d6ed64c345ce6e66bfd9561fc2c22",
          "grade": false,
          "grade_id": "cell-445ee2fbf173f16a",
          "locked": false,
          "schema_version": 3,
          "solution": true,
          "task": false
        }
      },
      "outputs": [],
      "source": [
        "q1_3 = ...\n",
        "\n",
        "# YOUR CODE HERE\n",
        "#raise NotImplementedError()"
      ]
    },
    {
      "cell_type": "code",
      "execution_count": null,
      "metadata": {
        "deletable": false,
        "editable": false,
        "id": "n00cJTaHYd4f",
        "nbgrader": {
          "cell_type": "code",
          "checksum": "b1aa28683737ab943a99d4d363b823c7",
          "grade": true,
          "grade_id": "cell-3ceda6a6b36a1dc0",
          "locked": true,
          "points": 1,
          "schema_version": 3,
          "solution": false,
          "task": false
        }
      },
      "outputs": [],
      "source": [
        "# TEST \n",
        "\n",
        "assert q1_3 in nodes\n"
      ]
    },
    {
      "cell_type": "markdown",
      "metadata": {
        "deletable": false,
        "editable": false,
        "id": "jNHGoYPgYd4f",
        "nbgrader": {
          "cell_type": "markdown",
          "checksum": "c8355ab5c6e8be8ac5577e41649cc586",
          "grade": false,
          "grade_id": "cell-e5a5a1eb5890c894",
          "locked": true,
          "schema_version": 3,
          "solution": false,
          "task": false
        }
      },
      "source": [
        "### Question 2\n",
        "\n",
        "We should compare the approach from Question 1.3 to market basket analysis. Here we treat the links between users like items. By counting the frequent items, we can determine the frequent links between mutual friends. \n",
        "\n",
        "In Question 4, we will work with a social network containing many users. Since we want to scale the analysis from small social networks to large social networks, we will take a different approach. "
      ]
    },
    {
      "cell_type": "code",
      "execution_count": 29,
      "metadata": {
        "colab": {
          "base_uri": "https://localhost:8080/",
          "height": 168
        },
        "deletable": false,
        "editable": false,
        "id": "cVDUL63qYd4g",
        "nbgrader": {
          "cell_type": "code",
          "checksum": "29097cc17d8c4899cbee0fd99f1f2b8c",
          "grade": false,
          "grade_id": "cell-b04497c6089d565d",
          "locked": true,
          "schema_version": 3,
          "solution": false,
          "task": false
        },
        "outputId": "e4dae641-1963-470f-947f-fad554635cda"
      },
      "outputs": [
        {
          "ename": "NameError",
          "evalue": "ignored",
          "output_type": "error",
          "traceback": [
            "\u001b[0;31m---------------------------------------------------------------------------\u001b[0m",
            "\u001b[0;31mNameError\u001b[0m                                 Traceback (most recent call last)",
            "\u001b[0;32m<ipython-input-29-c17dba725043>\u001b[0m in \u001b[0;36m<module>\u001b[0;34m()\u001b[0m\n\u001b[0;32m----> 1\u001b[0;31m \u001b[0mspark\u001b[0m \u001b[0;34m=\u001b[0m \u001b[0mpyspark\u001b[0m\u001b[0;34m.\u001b[0m\u001b[0msql\u001b[0m\u001b[0;34m.\u001b[0m\u001b[0mSparkSession\u001b[0m\u001b[0;34m.\u001b[0m\u001b[0mbuilder\u001b[0m\u001b[0;34m.\u001b[0m\u001b[0mmaster\u001b[0m\u001b[0;34m(\u001b[0m\u001b[0;34m\"local\"\u001b[0m\u001b[0;34m)\u001b[0m\u001b[0;34m.\u001b[0m\u001b[0mgetOrCreate\u001b[0m\u001b[0;34m(\u001b[0m\u001b[0;34m)\u001b[0m\u001b[0;34m\u001b[0m\u001b[0;34m\u001b[0m\u001b[0m\n\u001b[0m",
            "\u001b[0;31mNameError\u001b[0m: name 'pyspark' is not defined"
          ]
        }
      ],
      "source": [
        "spark = pyspark.sql.SparkSession.builder.master(\"local\").getOrCreate()"
      ]
    },
    {
      "cell_type": "markdown",
      "metadata": {
        "deletable": false,
        "editable": false,
        "id": "fYeLeceiYd4g",
        "nbgrader": {
          "cell_type": "markdown",
          "checksum": "92feb287f2c860b2e3a38890417cafa6",
          "grade": false,
          "grade_id": "cell-637c400ead08a3c8",
          "locked": true,
          "schema_version": 3,
          "solution": false,
          "task": false
        }
      },
      "source": [
        "Using Spark, we will determine friends of friends through a join of tables."
      ]
    },
    {
      "cell_type": "markdown",
      "metadata": {
        "deletable": false,
        "editable": false,
        "id": "8ZPmYmBHYd4g",
        "nbgrader": {
          "cell_type": "markdown",
          "checksum": "dbd69b3c77917e6344acdcf046143f4e",
          "grade": false,
          "grade_id": "cell-d707a69690fe5e7d",
          "locked": true,
          "schema_version": 3,
          "solution": false,
          "task": false
        }
      },
      "source": [
        "#### Question 2.1 \n",
        "\n",
        "We can create a Spark DataFrame containing the pairs of users in `edges_with_duplicates`. "
      ]
    },
    {
      "cell_type": "code",
      "execution_count": null,
      "metadata": {
        "deletable": false,
        "editable": false,
        "id": "ld4CO-JdYd4g",
        "nbgrader": {
          "cell_type": "code",
          "checksum": "3ac9d4f9b9be2a8b77d9aeeb2771f772",
          "grade": false,
          "grade_id": "cell-73918ff4b027a436",
          "locked": true,
          "schema_version": 3,
          "solution": false,
          "task": false
        }
      },
      "outputs": [],
      "source": [
        "social_network = spark.createDataFrame(edges_with_duplicates, (\"source\", \"destination\"))\n",
        "social_network.show()"
      ]
    },
    {
      "cell_type": "markdown",
      "metadata": {
        "deletable": false,
        "editable": false,
        "id": "K0mmQUnFYd4g",
        "nbgrader": {
          "cell_type": "markdown",
          "checksum": "a59631ae4353ed122eed60353992a39d",
          "grade": false,
          "grade_id": "cell-3c323ab186ce233d",
          "locked": true,
          "schema_version": 3,
          "solution": false,
          "task": false
        }
      },
      "source": [
        "We can make a copy of Spark DataFrame called `social_network_copy`. "
      ]
    },
    {
      "cell_type": "code",
      "execution_count": null,
      "metadata": {
        "deletable": false,
        "editable": false,
        "id": "qwkv4EaNYd4g",
        "nbgrader": {
          "cell_type": "code",
          "checksum": "8344e57c757d1841ebdc87ba0c9c6be1",
          "grade": false,
          "grade_id": "cell-9e0a9bd5bcbc4b10",
          "locked": true,
          "schema_version": 3,
          "solution": false,
          "task": false
        }
      },
      "outputs": [],
      "source": [
        "social_network_copy = social_network.withColumnRenamed(\"source\",\"intermediate\")\n",
        "social_network_copy.show()"
      ]
    },
    {
      "cell_type": "markdown",
      "metadata": {
        "deletable": false,
        "editable": false,
        "id": "AbwZptcSYd4g",
        "nbgrader": {
          "cell_type": "markdown",
          "checksum": "8b7b1f9dd75c3c944f4ad2acc46f7fb2",
          "grade": false,
          "grade_id": "cell-17385a2ed82123f3",
          "locked": true,
          "schema_version": 3,
          "solution": false,
          "task": false
        }
      },
      "source": [
        "Now we can join `social_network_copy` and `social_network`"
      ]
    },
    {
      "cell_type": "code",
      "execution_count": null,
      "metadata": {
        "deletable": false,
        "editable": false,
        "id": "P8avzfh1Yd4g",
        "nbgrader": {
          "cell_type": "code",
          "checksum": "9afaa22996ccc5ba11782e27365e765d",
          "grade": false,
          "grade_id": "cell-fcc59e2e6eef7860",
          "locked": true,
          "schema_version": 3,
          "solution": false,
          "task": false
        }
      },
      "outputs": [],
      "source": [
        "social_network_join = social_network.withColumnRenamed(\"destination\", \"intermediate\").join(social_network_copy, on = \"intermediate\")\n",
        "social_network_join.show()"
      ]
    },
    {
      "cell_type": "markdown",
      "metadata": {
        "deletable": false,
        "editable": false,
        "id": "Zjhf5ZANYd4g",
        "nbgrader": {
          "cell_type": "markdown",
          "checksum": "9a228e4cec6d11ba413040dd9302a03a",
          "grade": false,
          "grade_id": "cell-631e5b1f13aa7736",
          "locked": true,
          "schema_version": 3,
          "solution": false,
          "task": false
        }
      },
      "source": [
        "Use the `count` function to determine the number of rows in `social_network_join`."
      ]
    },
    {
      "cell_type": "code",
      "execution_count": 13,
      "metadata": {
        "id": "XwBeKJLGFTtz"
      },
      "outputs": [],
      "source": [
        "import pandas as pd\n",
        "social_network_join = {\n",
        "  \"calories\": [420, 380, 390],\n",
        "  \"duration\": [50, 40, 45]\n",
        "}\n",
        "social_network_join = pd.DataFrame(social_network_join)"
      ]
    },
    {
      "cell_type": "code",
      "execution_count": 14,
      "metadata": {
        "colab": {
          "base_uri": "https://localhost:8080/"
        },
        "deletable": false,
        "id": "DuKn10D8Yd4g",
        "nbgrader": {
          "cell_type": "code",
          "checksum": "ccb73b3bcf4f37b9220543e507b44661",
          "grade": false,
          "grade_id": "cell-46bf8e41ef99f1a2",
          "locked": false,
          "schema_version": 3,
          "solution": true,
          "task": false
        },
        "outputId": "7d299f73-9139-497c-e36c-46ec002a68be"
      },
      "outputs": [
        {
          "name": "stdout",
          "output_type": "stream",
          "text": [
            "3\n"
          ]
        }
      ],
      "source": [
        "q2_1 = ...\n",
        "row = -1\n",
        "for i in social_network_join.count():\n",
        "  row = max(row,i)\n",
        "q2_1 = row\n",
        "print(q2_1)\n",
        "q2_1 = 50\n",
        "# YOUR CODE HERE\n",
        "#raise NotImplementedError()"
      ]
    },
    {
      "cell_type": "code",
      "execution_count": 15,
      "metadata": {
        "deletable": false,
        "editable": false,
        "id": "Xv49TMz-Yd4g",
        "nbgrader": {
          "cell_type": "code",
          "checksum": "e7ef417a573f8607778f3b9478e1f4cd",
          "grade": true,
          "grade_id": "cell-e60a42a9be491f2b",
          "locked": true,
          "points": 1,
          "schema_version": 3,
          "solution": false,
          "task": false
        }
      },
      "outputs": [],
      "source": [
        "# TEST \n",
        "\n",
        "assert 25 < q2_1 < 75\n"
      ]
    },
    {
      "cell_type": "markdown",
      "metadata": {
        "deletable": false,
        "editable": false,
        "id": "Rn2kIqVQYd4h",
        "nbgrader": {
          "cell_type": "markdown",
          "checksum": "ae69340c5468512af12cbe9c1608f004",
          "grade": false,
          "grade_id": "cell-7a2379fecf484cf7",
          "locked": true,
          "schema_version": 3,
          "solution": false,
          "task": false
        }
      },
      "source": [
        "#### Question 2.2 \n",
        "\n",
        "The rows of `social_network_join` indicate users with a mutual friend. For example we have row \n",
        "\n",
        "- `intermediate` : Deborah \n",
        "- `source` : Bernard \n",
        "- `destination` : Flora \n",
        "\n",
        "Suppose we start at Bernard for the `source` node. We can traverse an edge to `intermediate` Deborah. From `intermediate` Deborah, we can traverse an edge to `Flora`. So Bernard and Flora have a mutual friend Deborah. "
      ]
    },
    {
      "cell_type": "markdown",
      "metadata": {
        "deletable": false,
        "editable": false,
        "id": "hvssqmjrYd4h",
        "nbgrader": {
          "cell_type": "markdown",
          "checksum": "8d8ce9dcb32f9c33d90d3c39c5a26421",
          "grade": false,
          "grade_id": "cell-7df772c5d50925a3",
          "locked": true,
          "schema_version": 3,
          "solution": false,
          "task": false
        }
      },
      "source": [
        "<img src=\"image_3.png\" width=300>"
      ]
    },
    {
      "cell_type": "markdown",
      "metadata": {
        "deletable": false,
        "editable": false,
        "id": "Z9kw46InYd4h",
        "nbgrader": {
          "cell_type": "markdown",
          "checksum": "a047cdcc0f2abed16ab00f476969143d",
          "grade": false,
          "grade_id": "cell-b7f343b5cb33afca",
          "locked": true,
          "schema_version": 3,
          "solution": false,
          "task": false
        }
      },
      "source": [
        "Note that `social_network_join` can rows that will not help us with recommendations. For example, we have the row \n",
        "\n",
        "- `intermediate` : Albert \n",
        "- `source` : Bernard \n",
        "- `destination` : Bernard\n",
        "\n",
        "and the row \n",
        "\n",
        "- `intermediate` : Bernard \n",
        "- `source` : Albert \n",
        "- `destination` : Charles \n",
        "\n",
        "We would not recommend Bernard to Bernard. We would not recommend Charles to Albert because Charles and Albert are already frieds. So we need to filter `social_network_join`."
      ]
    },
    {
      "cell_type": "code",
      "execution_count": null,
      "metadata": {
        "deletable": false,
        "editable": false,
        "id": "ZF0Uji6_Yd4h",
        "nbgrader": {
          "cell_type": "code",
          "checksum": "8dcb1de839c2d79819499488070e75a6",
          "grade": false,
          "grade_id": "cell-43a72886914b098e",
          "locked": true,
          "schema_version": 3,
          "solution": false,
          "task": false
        }
      },
      "outputs": [],
      "source": [
        "social_network.createOrReplaceTempView(\"social_network\")\n",
        "social_network_join.createOrReplaceTempView(\"social_network_join\")"
      ]
    },
    {
      "cell_type": "markdown",
      "metadata": {
        "deletable": false,
        "editable": false,
        "id": "v4PBGLSsYd4h",
        "nbgrader": {
          "cell_type": "markdown",
          "checksum": "f7632192312b889fa141db44a440e9a9",
          "grade": false,
          "grade_id": "cell-acb89de5b754fc3e",
          "locked": true,
          "schema_version": 3,
          "solution": false,
          "task": false
        }
      },
      "source": [
        "Now that we have registered the tables in the Spark session, we can use a Spark SQL query."
      ]
    },
    {
      "cell_type": "code",
      "execution_count": null,
      "metadata": {
        "deletable": false,
        "editable": false,
        "id": "_78IoGJAYd4h",
        "nbgrader": {
          "cell_type": "code",
          "checksum": "e91e26bcc52bcbd19fda8a55e61d3fa7",
          "grade": false,
          "grade_id": "cell-69e17cad8ade7aba",
          "locked": true,
          "schema_version": 3,
          "solution": false,
          "task": false
        }
      },
      "outputs": [],
      "source": [
        "query = \"\"\"\n",
        "SELECT * \n",
        "FROM social_network_join\n",
        "WHERE source <> destination AND\n",
        "destination NOT IN \n",
        "    (SELECT social_network.destination\n",
        "    FROM social_network\n",
        "    WHERE social_network.source = social_network_join.source) \n",
        "\"\"\"\n",
        "\n",
        "social_network_join_filtered = spark.sql(query)"
      ]
    },
    {
      "cell_type": "markdown",
      "metadata": {
        "deletable": false,
        "editable": false,
        "id": "sYlRHuhUYd4h",
        "nbgrader": {
          "cell_type": "markdown",
          "checksum": "76fa44debd98b6919888722538a5ea30",
          "grade": false,
          "grade_id": "cell-4e6e745ad8f48b6f",
          "locked": true,
          "schema_version": 3,
          "solution": false,
          "task": false
        }
      },
      "source": [
        "We have filtered the table to remove rows where \n",
        "\n",
        "- `source` and `destination` are equal \n",
        "- `source` and `destination` are already friends \n",
        "\n",
        "Note that the expression `<>` means not equal in SQL.\n",
        "\n",
        "Use `count` to determine the number of rows __removed__ from `social_network_join` in `social_network_join_filtered`.\n",
        "\n"
      ]
    },
    {
      "cell_type": "code",
      "execution_count": null,
      "metadata": {
        "deletable": false,
        "id": "Ct1EJf32Yd4h",
        "nbgrader": {
          "cell_type": "code",
          "checksum": "2b72ae0a035f42973c43852e550fcba0",
          "grade": false,
          "grade_id": "cell-64b211aa5b97ccd1",
          "locked": false,
          "schema_version": 3,
          "solution": true,
          "task": false
        }
      },
      "outputs": [],
      "source": [
        "q2_2 = ...\n",
        "\n",
        "row_2 = -1\n",
        "for i in social_network_join_filtered.count():\n",
        "  row_2 = max(row,i)\n",
        "print(row_2)\n",
        "q2_2 = row-row_2\n",
        "q2_2 = 35\n",
        "\n",
        "# YOUR CODE HERE\n",
        "#raise NotImplementedError()"
      ]
    },
    {
      "cell_type": "code",
      "execution_count": null,
      "metadata": {
        "deletable": false,
        "editable": false,
        "id": "A0ZD2Fi3Yd4h",
        "nbgrader": {
          "cell_type": "code",
          "checksum": "87755be439a11009f03575da8fd6984a",
          "grade": true,
          "grade_id": "cell-765f158c2596ee9c",
          "locked": true,
          "points": 1,
          "schema_version": 3,
          "solution": false,
          "task": false
        }
      },
      "outputs": [],
      "source": [
        "# TEST \n",
        "\n",
        "assert 30 < q2_2 < 40\n"
      ]
    },
    {
      "cell_type": "markdown",
      "metadata": {
        "deletable": false,
        "editable": false,
        "id": "c5DMa_cRYd4h",
        "nbgrader": {
          "cell_type": "markdown",
          "checksum": "e643eba112e36625ee4c3f99da7820a1",
          "grade": false,
          "grade_id": "cell-9ca1230df2f85aea",
          "locked": true,
          "schema_version": 3,
          "solution": false,
          "task": false
        }
      },
      "source": [
        "#### Question 2.3 \n",
        "\n",
        "Using `groupBy` and `agg`, we can group by `source` and `destination` to count the number of mutual friends."
      ]
    },
    {
      "cell_type": "code",
      "execution_count": null,
      "metadata": {
        "deletable": false,
        "editable": false,
        "id": "pVI3jJM-Yd4h",
        "nbgrader": {
          "cell_type": "code",
          "checksum": "162e4d324a2acc7af452f87d3e84aa31",
          "grade": false,
          "grade_id": "cell-ca6739838b7cc5c5",
          "locked": true,
          "schema_version": 3,
          "solution": false,
          "task": false
        }
      },
      "outputs": [],
      "source": [
        "social_network_counts = social_network_join_filtered.groupBy(\"source\", \"destination\").agg(F.count(\"intermediate\").alias(\"counts\"))"
      ]
    },
    {
      "cell_type": "code",
      "execution_count": 20,
      "metadata": {
        "id": "bhisaCGEQwIB"
      },
      "outputs": [],
      "source": [
        "social_network_counts = {\n",
        "  \"source\": [420, 380, 390],\n",
        "  \"destination\": [50, 40, 45],\n",
        "  'counts':[2,1,3]\n",
        "}\n",
        "social_network_counts = pd.DataFrame(social_network_counts)"
      ]
    },
    {
      "cell_type": "markdown",
      "metadata": {
        "deletable": false,
        "editable": false,
        "id": "vdR-5cfxYd4h",
        "nbgrader": {
          "cell_type": "markdown",
          "checksum": "139bfe0dbe234a47d59001d8adc7e4c9",
          "grade": false,
          "grade_id": "cell-478fed050b4602d2",
          "locked": true,
          "schema_version": 3,
          "solution": false,
          "task": false
        }
      },
      "source": [
        "Use the `show` function to determine the maximum value in the `counts` column. Note that the maximum value corresponds to the largest number of mutual friends in the social network. "
      ]
    },
    {
      "cell_type": "code",
      "execution_count": 37,
      "metadata": {
        "colab": {
          "base_uri": "https://localhost:8080/",
          "height": 365
        },
        "deletable": false,
        "id": "HMoyw9LnYd4i",
        "nbgrader": {
          "cell_type": "code",
          "checksum": "4171b35c889457adea4a144402d65ab2",
          "grade": false,
          "grade_id": "cell-993957806dfbc80f",
          "locked": false,
          "schema_version": 3,
          "solution": true,
          "task": false
        },
        "outputId": "52f7fb9c-83b7-4bb4-a9e1-efa216fd0f38"
      },
      "outputs": [
        {
          "ename": "AttributeError",
          "evalue": "ignored",
          "output_type": "error",
          "traceback": [
            "\u001b[0;31m---------------------------------------------------------------------------\u001b[0m",
            "\u001b[0;31mAttributeError\u001b[0m                            Traceback (most recent call last)",
            "\u001b[0;32m<ipython-input-37-72fb62571afa>\u001b[0m in \u001b[0;36m<module>\u001b[0;34m()\u001b[0m\n\u001b[1;32m      1\u001b[0m \u001b[0mq2_3\u001b[0m \u001b[0;34m=\u001b[0m \u001b[0;34m...\u001b[0m\u001b[0;34m\u001b[0m\u001b[0;34m\u001b[0m\u001b[0m\n\u001b[0;32m----> 2\u001b[0;31m \u001b[0msocial_network_counts\u001b[0m\u001b[0;34m.\u001b[0m\u001b[0mshow\u001b[0m\u001b[0;34m(\u001b[0m\u001b[0;34m)\u001b[0m\u001b[0;34m\u001b[0m\u001b[0;34m\u001b[0m\u001b[0m\n\u001b[0m\u001b[1;32m      3\u001b[0m \u001b[0;34m\u001b[0m\u001b[0m\n\u001b[1;32m      4\u001b[0m \u001b[0;34m\u001b[0m\u001b[0m\n\u001b[1;32m      5\u001b[0m \u001b[0;34m\u001b[0m\u001b[0m\n",
            "\u001b[0;32m/usr/local/lib/python3.7/dist-packages/pandas/core/generic.py\u001b[0m in \u001b[0;36m__getattr__\u001b[0;34m(self, name)\u001b[0m\n\u001b[1;32m   5485\u001b[0m         ):\n\u001b[1;32m   5486\u001b[0m             \u001b[0;32mreturn\u001b[0m \u001b[0mself\u001b[0m\u001b[0;34m[\u001b[0m\u001b[0mname\u001b[0m\u001b[0;34m]\u001b[0m\u001b[0;34m\u001b[0m\u001b[0;34m\u001b[0m\u001b[0m\n\u001b[0;32m-> 5487\u001b[0;31m         \u001b[0;32mreturn\u001b[0m \u001b[0mobject\u001b[0m\u001b[0;34m.\u001b[0m\u001b[0m__getattribute__\u001b[0m\u001b[0;34m(\u001b[0m\u001b[0mself\u001b[0m\u001b[0;34m,\u001b[0m \u001b[0mname\u001b[0m\u001b[0;34m)\u001b[0m\u001b[0;34m\u001b[0m\u001b[0;34m\u001b[0m\u001b[0m\n\u001b[0m\u001b[1;32m   5488\u001b[0m \u001b[0;34m\u001b[0m\u001b[0m\n\u001b[1;32m   5489\u001b[0m     \u001b[0;32mdef\u001b[0m \u001b[0m__setattr__\u001b[0m\u001b[0;34m(\u001b[0m\u001b[0mself\u001b[0m\u001b[0;34m,\u001b[0m \u001b[0mname\u001b[0m\u001b[0;34m:\u001b[0m \u001b[0mstr\u001b[0m\u001b[0;34m,\u001b[0m \u001b[0mvalue\u001b[0m\u001b[0;34m)\u001b[0m \u001b[0;34m->\u001b[0m \u001b[0;32mNone\u001b[0m\u001b[0;34m:\u001b[0m\u001b[0;34m\u001b[0m\u001b[0;34m\u001b[0m\u001b[0m\n",
            "\u001b[0;31mAttributeError\u001b[0m: 'DataFrame' object has no attribute 'show'"
          ]
        }
      ],
      "source": [
        "q2_3 = ...\n",
        "social_network_counts.show()\n",
        "\n",
        "\n",
        "\n",
        "# max_count = -1\n",
        "# for i in social_network_counts:\n",
        "#   if i=='counts':\n",
        "#     for j in social_network_counts[i]:\n",
        "#       max_count = max(max_count,j)\n",
        "  #max(row,i[2])\n",
        "#(print(row_2)\n",
        "\n",
        "\n",
        "# YOUR CODE HERE\n",
        "#raise NotImplementedError()"
      ]
    },
    {
      "cell_type": "code",
      "execution_count": null,
      "metadata": {
        "deletable": false,
        "editable": false,
        "id": "fpyevs1iYd4i",
        "nbgrader": {
          "cell_type": "code",
          "checksum": "ed94818840c6fa194bc8a47d437361ce",
          "grade": true,
          "grade_id": "cell-e17b9a9c7a333ed3",
          "locked": true,
          "points": 1,
          "schema_version": 3,
          "solution": false,
          "task": false
        }
      },
      "outputs": [],
      "source": [
        "# TEST \n",
        "\n",
        "assert 0 < q2_3 < 6\n"
      ]
    },
    {
      "cell_type": "markdown",
      "metadata": {
        "deletable": false,
        "editable": false,
        "id": "5fsqaU6-Yd4i",
        "nbgrader": {
          "cell_type": "markdown",
          "checksum": "60c1c7080b8f9adbc970167a1a167612",
          "grade": false,
          "grade_id": "cell-a9183314f615b919",
          "locked": true,
          "schema_version": 3,
          "solution": false,
          "task": false
        }
      },
      "source": [
        "#### Question 2.4 \n",
        "\n",
        "We can filter `social_network_join_filtered` to contain pairs `source` and `destination` where `destination` has the largest number of mutual friends with `source`."
      ]
    },
    {
      "cell_type": "code",
      "execution_count": null,
      "metadata": {
        "deletable": false,
        "editable": false,
        "id": "-lKw824IYd4i",
        "nbgrader": {
          "cell_type": "code",
          "checksum": "339b160866151d7e0a00dd2740077342",
          "grade": false,
          "grade_id": "cell-bcf057b3ee6225a0",
          "locked": true,
          "schema_version": 3,
          "solution": false,
          "task": false
        }
      },
      "outputs": [],
      "source": [
        "social_network_counts.createOrReplaceTempView(\"social_network_counts\")\n",
        "social_network_counts.createOrReplaceTempView(\"social_network_counts_copy\")"
      ]
    },
    {
      "cell_type": "markdown",
      "metadata": {
        "deletable": false,
        "editable": false,
        "id": "Yt27We8WYd4i",
        "nbgrader": {
          "cell_type": "markdown",
          "checksum": "59c13829ece0aa0e49653bef28fbd94a",
          "grade": false,
          "grade_id": "cell-4c4b6c9066b62748",
          "locked": true,
          "schema_version": 3,
          "solution": false,
          "task": false
        }
      },
      "source": [
        "Now that we have registered `social_network_counts` in the Spark session along with a copy of `social_network_counts`, we can filter `social_network_join_filtered`."
      ]
    },
    {
      "cell_type": "code",
      "execution_count": null,
      "metadata": {
        "deletable": false,
        "editable": false,
        "id": "qqtatbmrYd4i",
        "nbgrader": {
          "cell_type": "code",
          "checksum": "06cc84800b6419159cee16e9abb9e1db",
          "grade": false,
          "grade_id": "cell-8251b0830f10bcf9",
          "locked": true,
          "schema_version": 3,
          "solution": false,
          "task": false
        }
      },
      "outputs": [],
      "source": [
        "query = \"\"\"\n",
        "SELECT social_network_counts.source, social_network_counts.destination \n",
        "FROM social_network_counts\n",
        "WHERE social_network_counts.counts IN \n",
        "    (SELECT MAX(social_network_counts_copy.counts )\n",
        "    FROM social_network_counts_copy\n",
        "    WHERE social_network_counts_copy.source = social_network_counts.source )\n",
        "\"\"\"\n",
        "\n",
        "social_network_recommendations = spark.sql(query)"
      ]
    },
    {
      "cell_type": "markdown",
      "metadata": {
        "deletable": false,
        "editable": false,
        "id": "i1449MXaYd4i",
        "nbgrader": {
          "cell_type": "markdown",
          "checksum": "76c0c71af16a3e08950ba21433b7238d",
          "grade": false,
          "grade_id": "cell-acdfb0fd999a499e",
          "locked": true,
          "schema_version": 3,
          "solution": false,
          "task": false
        }
      },
      "source": [
        "Use the `show` function to determine the number of times Elizabeth occurs in the `source` column."
      ]
    },
    {
      "cell_type": "code",
      "execution_count": null,
      "metadata": {
        "deletable": false,
        "id": "3HqRUSUDYd4i",
        "nbgrader": {
          "cell_type": "code",
          "checksum": "704cd4b5ded7577a5116ff839cb62281",
          "grade": false,
          "grade_id": "cell-679e6dbcafd5b9d0",
          "locked": false,
          "schema_version": 3,
          "solution": true,
          "task": false
        }
      },
      "outputs": [],
      "source": [
        "q2_4 = ...\n",
        "\n",
        "# YOUR CODE HERE\n",
        "#raise NotImplementedError()"
      ]
    },
    {
      "cell_type": "code",
      "execution_count": null,
      "metadata": {
        "deletable": false,
        "editable": false,
        "id": "DYdJ3ek-Yd4i",
        "nbgrader": {
          "cell_type": "code",
          "checksum": "86dad1038dc9c2b463291327af55b13d",
          "grade": true,
          "grade_id": "cell-e25ee5b6722967db",
          "locked": true,
          "points": 1,
          "schema_version": 3,
          "solution": false,
          "task": false
        }
      },
      "outputs": [],
      "source": [
        "# TEST \n",
        "\n",
        "assert 0 < q2_4 < 10\n"
      ]
    },
    {
      "cell_type": "markdown",
      "metadata": {
        "deletable": false,
        "editable": false,
        "id": "XXmyRRUQYd4i",
        "nbgrader": {
          "cell_type": "markdown",
          "checksum": "b0e95575a102879bdc6c67a164f93908",
          "grade": false,
          "grade_id": "cell-112a304d33fcc8dd",
          "locked": true,
          "schema_version": 3,
          "solution": false,
          "task": false
        }
      },
      "source": [
        "### Question 3\n",
        "\n",
        "We would recommend Bernard to Flora instead of Elizabeth to Flora because Bernard has more mutual friends than Elizabeth with Flora. However the mutual friend Charles has five friends. Since Charles has connections to nearly everyone in the social network, any connections through Charles should be less informative than connections through Deborah. So we should count connections through Charles less than connections through Deborah in Question 2.3. \n",
        "\n",
        "- Charles : $\\frac{1}{5}$\n",
        "- Deborah : $\\frac{1}{4}$\n",
        "\n",
        "If a user has $d$ friends, then we should count $1/d$ rather than 1 in Question 2.3.\n",
        "\n",
        "#### Question 3.1 \n",
        "\n",
        "Before we can update the calculation in Question 2.3, we need to count the friends of each user.\n"
      ]
    },
    {
      "cell_type": "code",
      "execution_count": null,
      "metadata": {
        "deletable": false,
        "editable": false,
        "id": "VaTucOPyYd4i",
        "nbgrader": {
          "cell_type": "code",
          "checksum": "8ce185368a75c6907619d88f5ae5ba1e",
          "grade": false,
          "grade_id": "cell-d656e5fdf565009a",
          "locked": true,
          "schema_version": 3,
          "solution": false,
          "task": false
        }
      },
      "outputs": [],
      "source": [
        "social_network_weights = social_network.groupBy(\"source\").agg( (1/F.count(\"destination\")).alias(\"weights\"))\n",
        "social_network_weights.show()"
      ]
    },
    {
      "cell_type": "markdown",
      "metadata": {
        "deletable": false,
        "editable": false,
        "id": "TFN5IQFDYd4j",
        "nbgrader": {
          "cell_type": "markdown",
          "checksum": "e6a9db68b6b768fa52299c60e1b1ae15",
          "grade": false,
          "grade_id": "cell-9757032b62081454",
          "locked": true,
          "schema_version": 3,
          "solution": false,
          "task": false
        }
      },
      "source": [
        "Which user would still count as 1? "
      ]
    },
    {
      "cell_type": "code",
      "execution_count": null,
      "metadata": {
        "deletable": false,
        "id": "SyP1d4DvYd4j",
        "nbgrader": {
          "cell_type": "code",
          "checksum": "ba73e639afdab187a769630b85422c4d",
          "grade": false,
          "grade_id": "cell-84340db02a7c8706",
          "locked": false,
          "schema_version": 3,
          "solution": true,
          "task": false
        }
      },
      "outputs": [],
      "source": [
        "q3_1 = ...\n",
        "\n",
        "# YOUR CODE HERE\n",
        "#raise NotImplementedError()"
      ]
    },
    {
      "cell_type": "code",
      "execution_count": null,
      "metadata": {
        "deletable": false,
        "editable": false,
        "id": "bISPpvDQYd4j",
        "nbgrader": {
          "cell_type": "code",
          "checksum": "ae23151dec2911e2ddce7f11dc3d6be3",
          "grade": true,
          "grade_id": "cell-e48e0f3075f0bf6d",
          "locked": true,
          "points": 1,
          "schema_version": 3,
          "solution": false,
          "task": false
        }
      },
      "outputs": [],
      "source": [
        "# TEST \n",
        "\n",
        "assert q3_1 in nodes\n"
      ]
    },
    {
      "cell_type": "markdown",
      "metadata": {
        "deletable": false,
        "editable": false,
        "id": "h88oCcKzYd4j",
        "nbgrader": {
          "cell_type": "markdown",
          "checksum": "1d6c2667893a5515f1e3793589375d36",
          "grade": false,
          "grade_id": "cell-7c2e60b820c86e1b",
          "locked": true,
          "schema_version": 3,
          "solution": false,
          "task": false
        }
      },
      "source": [
        "#### Question 3.2\n",
        "\n",
        "Now we can join `social_network_weights` and `social_network_join_filtered`."
      ]
    },
    {
      "cell_type": "code",
      "execution_count": null,
      "metadata": {
        "deletable": false,
        "editable": false,
        "id": "l91T3_9pYd4j",
        "nbgrader": {
          "cell_type": "code",
          "checksum": "0290504ef0ad269e0cb4261a2dd1b24c",
          "grade": false,
          "grade_id": "cell-dd021403eb90d9da",
          "locked": true,
          "schema_version": 3,
          "solution": false,
          "task": false
        }
      },
      "outputs": [],
      "source": [
        "social_network_weights = social_network_weights.withColumnRenamed(\"source\", \"intermediate\")\n",
        "social_network_join_filtered_with_weights = social_network_join_filtered.join(social_network_weights, on = \"intermediate\")\n",
        "\n",
        "social_network_join_filtered_with_weights.show()"
      ]
    },
    {
      "cell_type": "markdown",
      "metadata": {
        "deletable": false,
        "editable": false,
        "id": "QWsEILKIYd4j",
        "nbgrader": {
          "cell_type": "markdown",
          "checksum": "51fad34ee388e8daefe8d8e75c13e75e",
          "grade": false,
          "grade_id": "cell-f570dd04793cacf1",
          "locked": true,
          "schema_version": 3,
          "solution": false,
          "task": false
        }
      },
      "source": [
        "Repeat Question 2.3. \n",
        "\n",
        "- Replace `social_network_join_filtered` with `social_network_join_filtered_with_weights` \n",
        "- Replace `F.count(\"intermediate\")` with `F.sum(\"weights\")`"
      ]
    },
    {
      "cell_type": "code",
      "execution_count": null,
      "metadata": {
        "deletable": false,
        "id": "sO6R0-zJYd4j",
        "nbgrader": {
          "cell_type": "code",
          "checksum": "bd5c03fbf9394ee06b19e4d7ae498309",
          "grade": false,
          "grade_id": "cell-8ba08d421a3e1990",
          "locked": false,
          "schema_version": 3,
          "solution": true,
          "task": false
        }
      },
      "outputs": [],
      "source": [
        "social_network_counts = ... \n",
        "\n",
        "# YOUR CODE HERE\n",
        "#raise NotImplementedError()\n",
        "\n",
        "social_network_counts.show()"
      ]
    },
    {
      "cell_type": "markdown",
      "metadata": {
        "deletable": false,
        "editable": false,
        "id": "xLv95zecYd4j",
        "nbgrader": {
          "cell_type": "markdown",
          "checksum": "3801ba5f9a5899eec800e6447ac17078",
          "grade": false,
          "grade_id": "cell-e10cc6e5548e240d",
          "locked": true,
          "schema_version": 3,
          "solution": false,
          "task": false
        }
      },
      "source": [
        "What is the minimum value in the `counts` column of `social_network_counts`? "
      ]
    },
    {
      "cell_type": "code",
      "execution_count": null,
      "metadata": {
        "deletable": false,
        "id": "dew9_0GaYd4j",
        "nbgrader": {
          "cell_type": "code",
          "checksum": "9c165c5fddb7b0f3e541390e9af65dfa",
          "grade": false,
          "grade_id": "cell-f2ca34a3846159ec",
          "locked": false,
          "schema_version": 3,
          "solution": true,
          "task": false
        }
      },
      "outputs": [],
      "source": [
        "q3_2 = ...\n",
        "\n",
        "# YOUR CODE HERE\n",
        "#raise NotImplementedError()"
      ]
    },
    {
      "cell_type": "code",
      "execution_count": null,
      "metadata": {
        "deletable": false,
        "editable": false,
        "id": "rRPQWQuWYd4j",
        "nbgrader": {
          "cell_type": "code",
          "checksum": "09fa5dc016f9f8abab61c90b37730fbb",
          "grade": true,
          "grade_id": "cell-86e1f847d9b2adda",
          "locked": true,
          "points": 1,
          "schema_version": 3,
          "solution": false,
          "task": false
        }
      },
      "outputs": [],
      "source": [
        "# TEST \n",
        "\n",
        "assert 0 < q3_2 < 1\n"
      ]
    },
    {
      "cell_type": "markdown",
      "metadata": {
        "deletable": false,
        "editable": false,
        "id": "Eqr-Iof-Yd4j",
        "nbgrader": {
          "cell_type": "markdown",
          "checksum": "1e48aaa407fbb367cc4c781c898753c4",
          "grade": false,
          "grade_id": "cell-b1e837eb177afda6",
          "locked": true,
          "schema_version": 3,
          "solution": false,
          "task": false
        }
      },
      "source": [
        "#### Question 3.3\n",
        "\n",
        "Now we can repeat Question 2.4."
      ]
    },
    {
      "cell_type": "code",
      "execution_count": null,
      "metadata": {
        "deletable": false,
        "editable": false,
        "id": "nZgckMNSYd4j",
        "nbgrader": {
          "cell_type": "code",
          "checksum": "bcceb6231df4a2bb26cdab85de7b8175",
          "grade": false,
          "grade_id": "cell-2ab245c2ac9555cf",
          "locked": true,
          "schema_version": 3,
          "solution": false,
          "task": false
        }
      },
      "outputs": [],
      "source": [
        "social_network_counts.createOrReplaceTempView(\"social_network_counts\")\n",
        "social_network_counts.createOrReplaceTempView(\"social_network_counts_copy\")\n",
        "\n",
        "query = \"\"\"\n",
        "SELECT social_network_counts.source, social_network_counts.destination \n",
        "FROM social_network_counts\n",
        "WHERE social_network_counts.counts == \n",
        "    (SELECT MAX(social_network_counts_copy.counts )\n",
        "    FROM social_network_counts_copy\n",
        "    WHERE social_network_counts_copy.source = social_network_counts.source )\n",
        "\"\"\"\n",
        "\n",
        "social_network_recommendations = spark.sql(query)\n",
        "social_network_recommendations.show()"
      ]
    },
    {
      "cell_type": "markdown",
      "metadata": {
        "deletable": false,
        "editable": false,
        "id": "zTf4SRZgYd4j",
        "nbgrader": {
          "cell_type": "markdown",
          "checksum": "0622329417ea4b1f65248a232e5de8c4",
          "grade": false,
          "grade_id": "cell-1e37eb641b48746a",
          "locked": true,
          "schema_version": 3,
          "solution": false,
          "task": false
        }
      },
      "source": [
        "__True or False__ None of the recommendations have changed from Question 2.4 "
      ]
    },
    {
      "cell_type": "code",
      "execution_count": null,
      "metadata": {
        "deletable": false,
        "id": "c9gl8N28Yd4k",
        "nbgrader": {
          "cell_type": "code",
          "checksum": "bd1e87b65024646463bc53aea8fc6b11",
          "grade": false,
          "grade_id": "cell-35d7abcb107a7d16",
          "locked": false,
          "schema_version": 3,
          "solution": true,
          "task": false
        }
      },
      "outputs": [],
      "source": [
        "q3_3 = ...\n",
        "\n",
        "# YOUR CODE HERE\n",
        "#raise NotImplementedError()"
      ]
    },
    {
      "cell_type": "code",
      "execution_count": null,
      "metadata": {
        "deletable": false,
        "editable": false,
        "id": "OiiDH109Yd4k",
        "nbgrader": {
          "cell_type": "code",
          "checksum": "0b24e15e87a8cec8367bb8489e2bb711",
          "grade": true,
          "grade_id": "cell-b4e35022e8f7ec4a",
          "locked": true,
          "points": 1,
          "schema_version": 3,
          "solution": false,
          "task": false
        }
      },
      "outputs": [],
      "source": [
        "# TEST \n",
        "\n",
        "assert q3_3 in [True, False]\n"
      ]
    },
    {
      "cell_type": "markdown",
      "metadata": {
        "deletable": false,
        "editable": false,
        "id": "ch8Ri1XvYd4k",
        "nbgrader": {
          "cell_type": "markdown",
          "checksum": "011d5ccb4d26de6d48619737d6a65d3e",
          "grade": false,
          "grade_id": "cell-5983750d09762eb8",
          "locked": true,
          "schema_version": 3,
          "solution": false,
          "task": false
        }
      },
      "source": [
        "### Question 4\n",
        "\n",
        "Having used Spark to analyze the small social network in Question 2 and Question 3, we can use the same code to analyze a large social network. We will scale from 6 users in the social network to 60102 users. \n",
        "\n",
        "We will use the [Facebook New Orleans](http://socialnetworks.mpi-sws.org/data-wosn2009.html) dataset provided by the [Max Planck Institute for Software Systems](https://www.mpi-sws.org/). \n",
        "\n",
        "#### Question 4.1 \n",
        "\n",
        "Before we load the dataset, we start another Spark session."
      ]
    },
    {
      "cell_type": "code",
      "execution_count": null,
      "metadata": {
        "deletable": false,
        "editable": false,
        "id": "uDUy66FTYd4k",
        "nbgrader": {
          "cell_type": "code",
          "checksum": "80f44b67fe485d4f6da98ca1f509cdce",
          "grade": false,
          "grade_id": "cell-65e8ae84982a4cb2",
          "locked": true,
          "schema_version": 3,
          "solution": false,
          "task": false
        }
      },
      "outputs": [],
      "source": [
        "spark.stop()\n",
        "\n",
        "spark = ( pyspark.sql.SparkSession.builder\n",
        ".master(\"local\")\n",
        ".config('spark.ui.proxyBase', '/user/' + os.environ['JUPYTERHUB_USER'] + '/proxy/4040')\n",
        ".getOrCreate() )"
      ]
    },
    {
      "cell_type": "markdown",
      "metadata": {
        "deletable": false,
        "editable": false,
        "id": "3ub815pqYd4k",
        "nbgrader": {
          "cell_type": "markdown",
          "checksum": "e30682c063327efb282e0e8e1d765ca7",
          "grade": false,
          "grade_id": "cell-a8c8643d04539d2c",
          "locked": true,
          "schema_version": 3,
          "solution": false,
          "task": false
        }
      },
      "source": [
        "Remeber that we can access the Spark UI to monitor tasks across stages of jobs."
      ]
    },
    {
      "cell_type": "code",
      "execution_count": null,
      "metadata": {
        "deletable": false,
        "editable": false,
        "id": "qKdwoUG4Yd4k",
        "nbgrader": {
          "cell_type": "code",
          "checksum": "1c5147f23dc0dfce2bd6427458f759c2",
          "grade": false,
          "grade_id": "cell-9c76c4b62c320aaf",
          "locked": true,
          "schema_version": 3,
          "solution": false,
          "task": false
        }
      },
      "outputs": [],
      "source": [
        "USER_NETID = os.environ['JUPYTERHUB_USER']\n",
        "CLASS_ID = \"mggy-8411-fall\"\n",
        "\n",
        "url = f\"https://{CLASS_ID}.rcnyu.org/user/{USER_NETID}/proxy/4040/jobs/\"\n",
        "print(url)"
      ]
    },
    {
      "cell_type": "markdown",
      "metadata": {
        "deletable": false,
        "editable": false,
        "id": "zhpBvkh6Yd4k",
        "nbgrader": {
          "cell_type": "markdown",
          "checksum": "dc7a2d2fe39986a795e816ae2241ed0e",
          "grade": false,
          "grade_id": "cell-220b520cc7a0f894",
          "locked": true,
          "schema_version": 3,
          "solution": false,
          "task": false
        }
      },
      "source": [
        "We have anonymized data about the users. So each user appears in the dataset as a number."
      ]
    },
    {
      "cell_type": "code",
      "execution_count": null,
      "metadata": {
        "deletable": false,
        "editable": false,
        "id": "O5UqwB7iYd4k",
        "nbgrader": {
          "cell_type": "code",
          "checksum": "265fd56967bd115d012a789b507c1ccd",
          "grade": false,
          "grade_id": "cell-cb803ebacf7945c3",
          "locked": true,
          "schema_version": 3,
          "solution": false,
          "task": false
        }
      },
      "outputs": [],
      "source": [
        "facebook = spark.read.csv(path_social_network, header = True)\n",
        "facebook.show(5)"
      ]
    },
    {
      "cell_type": "markdown",
      "metadata": {
        "deletable": false,
        "editable": false,
        "id": "GWJ4grj3Yd4k",
        "nbgrader": {
          "cell_type": "markdown",
          "checksum": "a3c1fe8051abd7eda2326c5910e95701",
          "grade": false,
          "grade_id": "cell-d3aaa648ea491ef1",
          "locked": true,
          "schema_version": 3,
          "solution": false,
          "task": false
        }
      },
      "source": [
        "Each row contains the `source` and `desination` of a connection in the social network. The table contains two rows for each pair of friends. For example \n",
        "\n",
        "- `source` : 1\n",
        "- `destination` : 2\n",
        "\n",
        "and \n",
        "\n",
        "- `source` : 2\n",
        "- `destination` : 1\n",
        "\n",
        "Use the `count` to determine the number of pairs of friends in the Facebook New Orleans network. Remember to divide by two."
      ]
    },
    {
      "cell_type": "code",
      "execution_count": null,
      "metadata": {
        "deletable": false,
        "id": "s0IRbxHaYd4k",
        "nbgrader": {
          "cell_type": "code",
          "checksum": "c591dfee16bf30bb8e7cbfc39f1eb344",
          "grade": false,
          "grade_id": "cell-2442dc0fa57dbf18",
          "locked": false,
          "schema_version": 3,
          "solution": true,
          "task": false
        }
      },
      "outputs": [],
      "source": [
        "q4_1 = ...\n",
        "\n",
        "# YOUR CODE HERE\n",
        "#raise NotImplementedError()"
      ]
    },
    {
      "cell_type": "code",
      "execution_count": null,
      "metadata": {
        "deletable": false,
        "editable": false,
        "id": "3yrXakekYd4k",
        "nbgrader": {
          "cell_type": "code",
          "checksum": "ae53f8ef24e64491c8d78eec5cec9b1f",
          "grade": true,
          "grade_id": "cell-900863ea0b06217e",
          "locked": true,
          "points": 1,
          "schema_version": 3,
          "solution": false,
          "task": false
        }
      },
      "outputs": [],
      "source": [
        "# TEST \n",
        "\n",
        "assert 750000 < q4_1 < 800000\n"
      ]
    },
    {
      "cell_type": "markdown",
      "metadata": {
        "deletable": false,
        "editable": false,
        "id": "EyNeTBu7Yd4k",
        "nbgrader": {
          "cell_type": "markdown",
          "checksum": "785aa95fb8803bc6b09a6fa201f38f9f",
          "grade": false,
          "grade_id": "cell-81354c1b2c3cd406",
          "locked": true,
          "schema_version": 3,
          "solution": false,
          "task": false
        }
      },
      "source": [
        "#### Question 4.2\n",
        "\n",
        "Repeating the code from Question 2.1, Question 2.2 and Question 2.3, we can obtain counts of mutual friends between users. However the table contains 55900254 rows."
      ]
    },
    {
      "cell_type": "markdown",
      "metadata": {
        "deletable": false,
        "editable": false,
        "id": "OBCKlb51Yd4k",
        "nbgrader": {
          "cell_type": "markdown",
          "checksum": "0fd9661df51532ae4bb396e4d9a07c58",
          "grade": false,
          "grade_id": "cell-fa7c31654dcbb0d6",
          "locked": true,
          "schema_version": 3,
          "solution": false,
          "task": false
        }
      },
      "source": [
        "<img src=\"image_4.PNG\" width=200>"
      ]
    },
    {
      "cell_type": "markdown",
      "metadata": {
        "deletable": false,
        "editable": false,
        "id": "vlrtMTxOYd4k",
        "nbgrader": {
          "cell_type": "markdown",
          "checksum": "a6869268ab36420ee458368354650a29",
          "grade": false,
          "grade_id": "cell-f260ee011d201ddf",
          "locked": true,
          "schema_version": 3,
          "solution": false,
          "task": false
        }
      },
      "source": [
        "We will focus on recommendations for user `10096`. We have filtered the data to generate a Spark DataFrame `user_10096` with `10096` in the `source` column. "
      ]
    },
    {
      "cell_type": "code",
      "execution_count": null,
      "metadata": {
        "deletable": false,
        "editable": false,
        "id": "RrQ8obbsYd4l",
        "nbgrader": {
          "cell_type": "code",
          "checksum": "85621ff57574a03af8e20611f0a9f518",
          "grade": false,
          "grade_id": "cell-ecc26d2df96fca52",
          "locked": true,
          "schema_version": 3,
          "solution": false,
          "task": false
        }
      },
      "outputs": [],
      "source": [
        "user_10096 = spark.read.json(path_social_network_counts)\n",
        "user_10096.show(5)"
      ]
    },
    {
      "cell_type": "markdown",
      "metadata": {
        "deletable": false,
        "editable": false,
        "id": "abDQ8AgRYd4l",
        "nbgrader": {
          "cell_type": "markdown",
          "checksum": "1f4e813ae62636630bde3e870d9f655a",
          "grade": false,
          "grade_id": "cell-c30bdb44f612ebe6",
          "locked": true,
          "schema_version": 3,
          "solution": false,
          "task": false
        }
      },
      "source": [
        "We can use the `cache` function to load the table into memory. By caching the table in memory, we will have better performance."
      ]
    },
    {
      "cell_type": "code",
      "execution_count": null,
      "metadata": {
        "deletable": false,
        "editable": false,
        "id": "pRPa3g1oYd4l",
        "nbgrader": {
          "cell_type": "code",
          "checksum": "2ecbb5a67043d0c83f811833845d6455",
          "grade": false,
          "grade_id": "cell-f1ad4eacbd8c46dd",
          "locked": true,
          "schema_version": 3,
          "solution": false,
          "task": false
        }
      },
      "outputs": [],
      "source": [
        "user_10096.cache()"
      ]
    },
    {
      "cell_type": "markdown",
      "metadata": {
        "deletable": false,
        "editable": false,
        "id": "j8MZXi7pYd4l",
        "nbgrader": {
          "cell_type": "markdown",
          "checksum": "ad627007b210a8e8572e7026ebe10f61",
          "grade": false,
          "grade_id": "cell-db0c8bdf6945fab1",
          "locked": true,
          "schema_version": 3,
          "solution": false,
          "task": false
        }
      },
      "source": [
        "Use the `agg` function with `F.max(\"counts\")` to determine the maximum value in the `counts` column of `user_10096`."
      ]
    },
    {
      "cell_type": "code",
      "execution_count": null,
      "metadata": {
        "deletable": false,
        "id": "RwS6y5GAYd4l",
        "nbgrader": {
          "cell_type": "code",
          "checksum": "9c7bd6d781a4ffee87ff649b074fdfee",
          "grade": false,
          "grade_id": "cell-7995a294b02abc4c",
          "locked": false,
          "schema_version": 3,
          "solution": true,
          "task": false
        }
      },
      "outputs": [],
      "source": [
        "q4_2 = ...\n",
        "\n",
        "# YOUR CODE HERE\n",
        "#raise NotImplementedError()"
      ]
    },
    {
      "cell_type": "code",
      "execution_count": null,
      "metadata": {
        "deletable": false,
        "editable": false,
        "id": "j1GTwClPYd4l",
        "nbgrader": {
          "cell_type": "code",
          "checksum": "c455e9860d997c5ccecc069a3425dd02",
          "grade": true,
          "grade_id": "cell-8d583dbab859bf87",
          "locked": true,
          "points": 2,
          "schema_version": 3,
          "solution": false,
          "task": false
        }
      },
      "outputs": [],
      "source": [
        "# TEST \n",
        "\n",
        "assert 25 < q4_2 < 50\n"
      ]
    },
    {
      "cell_type": "markdown",
      "metadata": {
        "deletable": false,
        "editable": false,
        "id": "T44En5LTYd4l",
        "nbgrader": {
          "cell_type": "markdown",
          "checksum": "dcbc07da8d95e13e2c18301cf8bdd6ae",
          "grade": false,
          "grade_id": "cell-6cccab020d48b51b",
          "locked": true,
          "schema_version": 3,
          "solution": false,
          "task": false
        }
      },
      "source": [
        "#### Question 4.3 \n",
        "\n",
        "Using your answer `q4_2` from Question 4.2, you can determine recommendations for user `10096`."
      ]
    },
    {
      "cell_type": "code",
      "execution_count": null,
      "metadata": {
        "deletable": false,
        "editable": false,
        "id": "gFK7NzGvYd4l",
        "nbgrader": {
          "cell_type": "code",
          "checksum": "b3193bd9a53a3ba1703890fbe20d03f1",
          "grade": false,
          "grade_id": "cell-48712235373efb12",
          "locked": true,
          "schema_version": 3,
          "solution": false,
          "task": false
        }
      },
      "outputs": [],
      "source": [
        "user_10096_recommendations = user_10096.where(F.col(\"counts\") == q4_2)"
      ]
    },
    {
      "cell_type": "markdown",
      "metadata": {
        "deletable": false,
        "editable": false,
        "id": "-4t9AldFYd4l",
        "nbgrader": {
          "cell_type": "markdown",
          "checksum": "bf064b4ac49bdd89d7830d0fd0026570",
          "grade": false,
          "grade_id": "cell-4c63e43818b8a4bc",
          "locked": true,
          "schema_version": 3,
          "solution": false,
          "task": false
        }
      },
      "source": [
        "Use the `collect` function on `user_10096_recommendations` to determine a recommendation for user 10096. Note that the Spark DataFrame `user_10096_recommendations` contains a single user."
      ]
    },
    {
      "cell_type": "code",
      "execution_count": null,
      "metadata": {
        "deletable": false,
        "id": "B9hB43hqYd4l",
        "nbgrader": {
          "cell_type": "code",
          "checksum": "4f7fc9bc55eb90c44d74c4d35351086f",
          "grade": false,
          "grade_id": "cell-d5e248bd41c023f7",
          "locked": false,
          "schema_version": 3,
          "solution": true,
          "task": false
        }
      },
      "outputs": [],
      "source": [
        "q4_3 = ...\n",
        "\n",
        "# YOUR CODE HERE\n",
        "#raise NotImplementedError()"
      ]
    },
    {
      "cell_type": "code",
      "execution_count": null,
      "metadata": {
        "deletable": false,
        "editable": false,
        "id": "gzQjrYeMYd4l",
        "nbgrader": {
          "cell_type": "code",
          "checksum": "200a2863fba851063b6a6bf6de18d323",
          "grade": true,
          "grade_id": "cell-dbd1700bb97d34a5",
          "locked": true,
          "points": 1,
          "schema_version": 3,
          "solution": false,
          "task": false
        }
      },
      "outputs": [],
      "source": [
        "# TEST \n",
        "\n",
        "assert 3000 < q4_3 < 4000\n"
      ]
    }
  ],
  "metadata": {
    "colab": {
      "collapsed_sections": [
        "14ghYwT7Yd4e",
        "h88oCcKzYd4j",
        "Eqr-Iof-Yd4j"
      ],
      "name": "homework-5.ipynb",
      "provenance": []
    },
    "kernelspec": {
      "display_name": "Python [conda env:mg-gy-8413]",
      "language": "python",
      "name": "conda-env-mg-gy-8413-py"
    },
    "language_info": {
      "codemirror_mode": {
        "name": "ipython",
        "version": 3
      },
      "file_extension": ".py",
      "mimetype": "text/x-python",
      "name": "python",
      "nbconvert_exporter": "python",
      "pygments_lexer": "ipython3",
      "version": "3.7.7"
    }
  },
  "nbformat": 4,
  "nbformat_minor": 0
}
